{
 "cells": [
  {
   "cell_type": "markdown",
   "id": "3e29db56",
   "metadata": {},
   "source": [
    "# Anaysis of Healthy Lifestyle Cities Report 2021"
   ]
  },
  {
   "cell_type": "markdown",
   "id": "25131bdb",
   "metadata": {},
   "source": [
    "By Mahitha Potti"
   ]
  },
  {
   "cell_type": "markdown",
   "id": "da0aa5fe",
   "metadata": {},
   "source": [
    "*About*: This dataset 'Healthy Lifestyle Cities Report 2021' is obtained from kaggle. It consists of 10 healthy living metrics in top 44 cities.\n",
    "\n",
    "*Mission*: The main aim is to find relationships between various factors that lead to healthy or unhealthy lifestyle in cities and visualize them.\n",
    "\n",
    "*Limitations of the data*: This dataset consists of only 44 cities and the dataset is very small. So the observations are insufficient to give powerful estimations."
   ]
  },
  {
   "cell_type": "markdown",
   "id": "fe393f5d",
   "metadata": {},
   "source": [
    "#### Import packages and load the csv file into DataFrame format"
   ]
  },
  {
   "cell_type": "code",
   "execution_count": 301,
   "id": "2b87aca3",
   "metadata": {},
   "outputs": [],
   "source": [
    "import numpy as np\n",
    "import pandas as pd"
   ]
  },
  {
   "cell_type": "code",
   "execution_count": 302,
   "id": "be39a88c",
   "metadata": {},
   "outputs": [],
   "source": [
    "data=pd.read_csv(\"C:\\\\Users\\\\User\\\\Desktop\\\\healthy_lifestyle_city_2021.csv\")"
   ]
  },
  {
   "cell_type": "markdown",
   "id": "4a4c65bc",
   "metadata": {},
   "source": [
    "To know the basic information of the dataset and understand the columns:"
   ]
  },
  {
   "cell_type": "code",
   "execution_count": 303,
   "id": "69a8d8f2",
   "metadata": {},
   "outputs": [
    {
     "name": "stdout",
     "output_type": "stream",
     "text": [
      "<class 'pandas.core.frame.DataFrame'>\n",
      "RangeIndex: 44 entries, 0 to 43\n",
      "Data columns (total 12 columns):\n",
      " #   Column                                  Non-Null Count  Dtype  \n",
      "---  ------                                  --------------  -----  \n",
      " 0   City                                    44 non-null     object \n",
      " 1   Rank                                    44 non-null     int64  \n",
      " 2   Sunshine hours(City)                    44 non-null     object \n",
      " 3   Cost of a bottle of water(City)         44 non-null     object \n",
      " 4   Obesity levels(Country)                 44 non-null     object \n",
      " 5   Life expectancy(years) (Country)        44 non-null     float64\n",
      " 6   Pollution(Index score) (City)           44 non-null     object \n",
      " 7   Annual avg. hours worked                44 non-null     object \n",
      " 8   Happiness levels(Country)               44 non-null     float64\n",
      " 9   Outdoor activities(City)                44 non-null     int64  \n",
      " 10  Number of take out places(City)         44 non-null     int64  \n",
      " 11  Cost of a monthly gym membership(City)  44 non-null     object \n",
      "dtypes: float64(2), int64(3), object(7)\n",
      "memory usage: 4.2+ KB\n"
     ]
    },
    {
     "data": {
      "text/plain": [
       "(44, 12)"
      ]
     },
     "execution_count": 303,
     "metadata": {},
     "output_type": "execute_result"
    }
   ],
   "source": [
    "data.info()\n",
    "data.shape"
   ]
  },
  {
   "cell_type": "code",
   "execution_count": 304,
   "id": "7222f510",
   "metadata": {},
   "outputs": [
    {
     "data": {
      "text/html": [
       "<div>\n",
       "<style scoped>\n",
       "    .dataframe tbody tr th:only-of-type {\n",
       "        vertical-align: middle;\n",
       "    }\n",
       "\n",
       "    .dataframe tbody tr th {\n",
       "        vertical-align: top;\n",
       "    }\n",
       "\n",
       "    .dataframe thead th {\n",
       "        text-align: right;\n",
       "    }\n",
       "</style>\n",
       "<table border=\"1\" class=\"dataframe\">\n",
       "  <thead>\n",
       "    <tr style=\"text-align: right;\">\n",
       "      <th></th>\n",
       "      <th>City</th>\n",
       "      <th>Rank</th>\n",
       "      <th>Sunshine hours(City)</th>\n",
       "      <th>Cost of a bottle of water(City)</th>\n",
       "      <th>Obesity levels(Country)</th>\n",
       "      <th>Life expectancy(years) (Country)</th>\n",
       "      <th>Pollution(Index score) (City)</th>\n",
       "      <th>Annual avg. hours worked</th>\n",
       "      <th>Happiness levels(Country)</th>\n",
       "      <th>Outdoor activities(City)</th>\n",
       "      <th>Number of take out places(City)</th>\n",
       "      <th>Cost of a monthly gym membership(City)</th>\n",
       "    </tr>\n",
       "  </thead>\n",
       "  <tbody>\n",
       "    <tr>\n",
       "      <th>0</th>\n",
       "      <td>Amsterdam</td>\n",
       "      <td>1</td>\n",
       "      <td>1858</td>\n",
       "      <td>£1.92</td>\n",
       "      <td>20.40%</td>\n",
       "      <td>81.2</td>\n",
       "      <td>30.93</td>\n",
       "      <td>1434</td>\n",
       "      <td>7.44</td>\n",
       "      <td>422</td>\n",
       "      <td>1048</td>\n",
       "      <td>£34.90</td>\n",
       "    </tr>\n",
       "    <tr>\n",
       "      <th>1</th>\n",
       "      <td>Sydney</td>\n",
       "      <td>2</td>\n",
       "      <td>2636</td>\n",
       "      <td>£1.48</td>\n",
       "      <td>29.00%</td>\n",
       "      <td>82.1</td>\n",
       "      <td>26.86</td>\n",
       "      <td>1712</td>\n",
       "      <td>7.22</td>\n",
       "      <td>406</td>\n",
       "      <td>1103</td>\n",
       "      <td>£41.66</td>\n",
       "    </tr>\n",
       "    <tr>\n",
       "      <th>2</th>\n",
       "      <td>Vienna</td>\n",
       "      <td>3</td>\n",
       "      <td>1884</td>\n",
       "      <td>£1.94</td>\n",
       "      <td>20.10%</td>\n",
       "      <td>81.0</td>\n",
       "      <td>17.33</td>\n",
       "      <td>1501</td>\n",
       "      <td>7.29</td>\n",
       "      <td>132</td>\n",
       "      <td>1008</td>\n",
       "      <td>£25.74</td>\n",
       "    </tr>\n",
       "    <tr>\n",
       "      <th>3</th>\n",
       "      <td>Stockholm</td>\n",
       "      <td>4</td>\n",
       "      <td>1821</td>\n",
       "      <td>£1.72</td>\n",
       "      <td>20.60%</td>\n",
       "      <td>81.8</td>\n",
       "      <td>19.63</td>\n",
       "      <td>1452</td>\n",
       "      <td>7.35</td>\n",
       "      <td>129</td>\n",
       "      <td>598</td>\n",
       "      <td>£37.31</td>\n",
       "    </tr>\n",
       "    <tr>\n",
       "      <th>4</th>\n",
       "      <td>Copenhagen</td>\n",
       "      <td>5</td>\n",
       "      <td>1630</td>\n",
       "      <td>£2.19</td>\n",
       "      <td>19.70%</td>\n",
       "      <td>79.8</td>\n",
       "      <td>21.24</td>\n",
       "      <td>1380</td>\n",
       "      <td>7.64</td>\n",
       "      <td>154</td>\n",
       "      <td>523</td>\n",
       "      <td>£32.53</td>\n",
       "    </tr>\n",
       "  </tbody>\n",
       "</table>\n",
       "</div>"
      ],
      "text/plain": [
       "         City  Rank Sunshine hours(City) Cost of a bottle of water(City)  \\\n",
       "0   Amsterdam     1                 1858                           £1.92   \n",
       "1      Sydney     2                 2636                           £1.48   \n",
       "2      Vienna     3                 1884                           £1.94   \n",
       "3   Stockholm     4                 1821                           £1.72   \n",
       "4  Copenhagen     5                 1630                           £2.19   \n",
       "\n",
       "  Obesity levels(Country)  Life expectancy(years) (Country)  \\\n",
       "0                  20.40%                              81.2   \n",
       "1                  29.00%                              82.1   \n",
       "2                  20.10%                              81.0   \n",
       "3                  20.60%                              81.8   \n",
       "4                  19.70%                              79.8   \n",
       "\n",
       "  Pollution(Index score) (City) Annual avg. hours worked  \\\n",
       "0                         30.93                     1434   \n",
       "1                         26.86                     1712   \n",
       "2                         17.33                     1501   \n",
       "3                         19.63                     1452   \n",
       "4                         21.24                     1380   \n",
       "\n",
       "   Happiness levels(Country)  Outdoor activities(City)  \\\n",
       "0                       7.44                       422   \n",
       "1                       7.22                       406   \n",
       "2                       7.29                       132   \n",
       "3                       7.35                       129   \n",
       "4                       7.64                       154   \n",
       "\n",
       "   Number of take out places(City) Cost of a monthly gym membership(City)  \n",
       "0                             1048                                 £34.90  \n",
       "1                             1103                                 £41.66  \n",
       "2                             1008                                 £25.74  \n",
       "3                              598                                 £37.31  \n",
       "4                              523                                 £32.53  "
      ]
     },
     "execution_count": 304,
     "metadata": {},
     "output_type": "execute_result"
    }
   ],
   "source": [
    "data.head()"
   ]
  },
  {
   "cell_type": "markdown",
   "id": "98ec61fa",
   "metadata": {},
   "source": [
    "### Cleaning the Dataset"
   ]
  },
  {
   "cell_type": "code",
   "execution_count": 305,
   "id": "23b3078b",
   "metadata": {},
   "outputs": [
    {
     "data": {
      "text/plain": [
       "City                                      False\n",
       "Rank                                      False\n",
       "Sunshine hours(City)                      False\n",
       "Cost of a bottle of water(City)           False\n",
       "Obesity levels(Country)                   False\n",
       "Life expectancy(years) (Country)          False\n",
       "Pollution(Index score) (City)             False\n",
       "Annual avg. hours worked                  False\n",
       "Happiness levels(Country)                 False\n",
       "Outdoor activities(City)                  False\n",
       "Number of take out places(City)           False\n",
       "Cost of a monthly gym membership(City)    False\n",
       "dtype: bool"
      ]
     },
     "execution_count": 305,
     "metadata": {},
     "output_type": "execute_result"
    }
   ],
   "source": [
    "data.isnull().any()"
   ]
  },
  {
   "cell_type": "code",
   "execution_count": 306,
   "id": "6171382b",
   "metadata": {},
   "outputs": [
    {
     "data": {
      "text/plain": [
       "City                                      False\n",
       "Rank                                      False\n",
       "Sunshine hours(City)                      False\n",
       "Cost of a bottle of water(City)           False\n",
       "Obesity levels(Country)                   False\n",
       "Life expectancy(years) (Country)          False\n",
       "Pollution(Index score) (City)             False\n",
       "Annual avg. hours worked                  False\n",
       "Happiness levels(Country)                 False\n",
       "Outdoor activities(City)                  False\n",
       "Number of take out places(City)           False\n",
       "Cost of a monthly gym membership(City)    False\n",
       "dtype: bool"
      ]
     },
     "execution_count": 306,
     "metadata": {},
     "output_type": "execute_result"
    }
   ],
   "source": [
    "data.isna().any()"
   ]
  },
  {
   "cell_type": "markdown",
   "id": "1d4fc783",
   "metadata": {},
   "source": [
    "Looks like the data does not contain any null or empty values. Let us check for duplicate data rows among the dataset"
   ]
  },
  {
   "cell_type": "code",
   "execution_count": 307,
   "id": "d9d78812",
   "metadata": {},
   "outputs": [
    {
     "data": {
      "text/plain": [
       "False"
      ]
     },
     "execution_count": 307,
     "metadata": {},
     "output_type": "execute_result"
    }
   ],
   "source": [
    "data.duplicated().any()"
   ]
  },
  {
   "cell_type": "markdown",
   "id": "47bb2d4a",
   "metadata": {},
   "source": [
    "The data seems to be pretty clean and consistant."
   ]
  },
  {
   "cell_type": "code",
   "execution_count": 308,
   "id": "1794d392",
   "metadata": {},
   "outputs": [],
   "source": [
    "#Remove blank spaces with .strip()\n",
    "data['City'] = data['City'].str.strip()"
   ]
  },
  {
   "cell_type": "code",
   "execution_count": 309,
   "id": "c5ef9e8b",
   "metadata": {},
   "outputs": [
    {
     "data": {
      "text/html": [
       "<div>\n",
       "<style scoped>\n",
       "    .dataframe tbody tr th:only-of-type {\n",
       "        vertical-align: middle;\n",
       "    }\n",
       "\n",
       "    .dataframe tbody tr th {\n",
       "        vertical-align: top;\n",
       "    }\n",
       "\n",
       "    .dataframe thead th {\n",
       "        text-align: right;\n",
       "    }\n",
       "</style>\n",
       "<table border=\"1\" class=\"dataframe\">\n",
       "  <thead>\n",
       "    <tr style=\"text-align: right;\">\n",
       "      <th></th>\n",
       "      <th>City</th>\n",
       "      <th>Rank</th>\n",
       "      <th>Sunshine hours(City)</th>\n",
       "      <th>Cost of a bottle of water(City)</th>\n",
       "      <th>Obesity levels(Country)</th>\n",
       "      <th>Life expectancy(years) (Country)</th>\n",
       "      <th>Pollution(Index score) (City)</th>\n",
       "      <th>Annual avg. hours worked</th>\n",
       "      <th>Happiness levels(Country)</th>\n",
       "      <th>Outdoor activities(City)</th>\n",
       "      <th>Number of take out places(City)</th>\n",
       "      <th>Cost of a monthly gym membership(City)</th>\n",
       "    </tr>\n",
       "  </thead>\n",
       "  <tbody>\n",
       "    <tr>\n",
       "      <th>0</th>\n",
       "      <td>Amsterdam</td>\n",
       "      <td>1</td>\n",
       "      <td>1858</td>\n",
       "      <td>£1.92</td>\n",
       "      <td>20.40%</td>\n",
       "      <td>81.2</td>\n",
       "      <td>30.93</td>\n",
       "      <td>1434</td>\n",
       "      <td>7.44</td>\n",
       "      <td>422</td>\n",
       "      <td>1048</td>\n",
       "      <td>£34.90</td>\n",
       "    </tr>\n",
       "    <tr>\n",
       "      <th>1</th>\n",
       "      <td>Sydney</td>\n",
       "      <td>2</td>\n",
       "      <td>2636</td>\n",
       "      <td>£1.48</td>\n",
       "      <td>29.00%</td>\n",
       "      <td>82.1</td>\n",
       "      <td>26.86</td>\n",
       "      <td>1712</td>\n",
       "      <td>7.22</td>\n",
       "      <td>406</td>\n",
       "      <td>1103</td>\n",
       "      <td>£41.66</td>\n",
       "    </tr>\n",
       "    <tr>\n",
       "      <th>2</th>\n",
       "      <td>Vienna</td>\n",
       "      <td>3</td>\n",
       "      <td>1884</td>\n",
       "      <td>£1.94</td>\n",
       "      <td>20.10%</td>\n",
       "      <td>81.0</td>\n",
       "      <td>17.33</td>\n",
       "      <td>1501</td>\n",
       "      <td>7.29</td>\n",
       "      <td>132</td>\n",
       "      <td>1008</td>\n",
       "      <td>£25.74</td>\n",
       "    </tr>\n",
       "    <tr>\n",
       "      <th>3</th>\n",
       "      <td>Stockholm</td>\n",
       "      <td>4</td>\n",
       "      <td>1821</td>\n",
       "      <td>£1.72</td>\n",
       "      <td>20.60%</td>\n",
       "      <td>81.8</td>\n",
       "      <td>19.63</td>\n",
       "      <td>1452</td>\n",
       "      <td>7.35</td>\n",
       "      <td>129</td>\n",
       "      <td>598</td>\n",
       "      <td>£37.31</td>\n",
       "    </tr>\n",
       "    <tr>\n",
       "      <th>4</th>\n",
       "      <td>Copenhagen</td>\n",
       "      <td>5</td>\n",
       "      <td>1630</td>\n",
       "      <td>£2.19</td>\n",
       "      <td>19.70%</td>\n",
       "      <td>79.8</td>\n",
       "      <td>21.24</td>\n",
       "      <td>1380</td>\n",
       "      <td>7.64</td>\n",
       "      <td>154</td>\n",
       "      <td>523</td>\n",
       "      <td>£32.53</td>\n",
       "    </tr>\n",
       "  </tbody>\n",
       "</table>\n",
       "</div>"
      ],
      "text/plain": [
       "         City  Rank Sunshine hours(City) Cost of a bottle of water(City)  \\\n",
       "0   Amsterdam     1                 1858                           £1.92   \n",
       "1      Sydney     2                 2636                           £1.48   \n",
       "2      Vienna     3                 1884                           £1.94   \n",
       "3   Stockholm     4                 1821                           £1.72   \n",
       "4  Copenhagen     5                 1630                           £2.19   \n",
       "\n",
       "  Obesity levels(Country)  Life expectancy(years) (Country)  \\\n",
       "0                  20.40%                              81.2   \n",
       "1                  29.00%                              82.1   \n",
       "2                  20.10%                              81.0   \n",
       "3                  20.60%                              81.8   \n",
       "4                  19.70%                              79.8   \n",
       "\n",
       "  Pollution(Index score) (City) Annual avg. hours worked  \\\n",
       "0                         30.93                     1434   \n",
       "1                         26.86                     1712   \n",
       "2                         17.33                     1501   \n",
       "3                         19.63                     1452   \n",
       "4                         21.24                     1380   \n",
       "\n",
       "   Happiness levels(Country)  Outdoor activities(City)  \\\n",
       "0                       7.44                       422   \n",
       "1                       7.22                       406   \n",
       "2                       7.29                       132   \n",
       "3                       7.35                       129   \n",
       "4                       7.64                       154   \n",
       "\n",
       "   Number of take out places(City) Cost of a monthly gym membership(City)  \n",
       "0                             1048                                 £34.90  \n",
       "1                             1103                                 £41.66  \n",
       "2                             1008                                 £25.74  \n",
       "3                              598                                 £37.31  \n",
       "4                              523                                 £32.53  "
      ]
     },
     "execution_count": 309,
     "metadata": {},
     "output_type": "execute_result"
    }
   ],
   "source": [
    "data.head()"
   ]
  },
  {
   "cell_type": "markdown",
   "id": "5b38989b",
   "metadata": {},
   "source": [
    "### Prepare the data for analysis"
   ]
  },
  {
   "cell_type": "markdown",
   "id": "ab4a8fc3",
   "metadata": {},
   "source": [
    "There seems to be series in this dataframe which are not in correspondance with their data types. Let us change the data types of some series."
   ]
  },
  {
   "cell_type": "code",
   "execution_count": 310,
   "id": "fb52d2ad",
   "metadata": {},
   "outputs": [
    {
     "name": "stdout",
     "output_type": "stream",
     "text": [
      "<class 'pandas.core.frame.DataFrame'>\n",
      "RangeIndex: 44 entries, 0 to 43\n",
      "Data columns (total 12 columns):\n",
      " #   Column                                  Non-Null Count  Dtype  \n",
      "---  ------                                  --------------  -----  \n",
      " 0   City                                    44 non-null     object \n",
      " 1   Rank                                    44 non-null     int64  \n",
      " 2   Sunshine hours(City)                    43 non-null     float64\n",
      " 3   Cost of a bottle of water(City)         44 non-null     object \n",
      " 4   Obesity levels(Country)                 44 non-null     float64\n",
      " 5   Life expectancy(years) (Country)        44 non-null     float64\n",
      " 6   Pollution(Index score) (City)           43 non-null     float64\n",
      " 7   Annual avg. hours worked                33 non-null     float64\n",
      " 8   Happiness levels(Country)               44 non-null     float64\n",
      " 9   Outdoor activities(City)                44 non-null     int64  \n",
      " 10  Number of take out places(City)         44 non-null     int64  \n",
      " 11  Cost of a monthly gym membership(City)  0 non-null      float64\n",
      "dtypes: float64(7), int64(3), object(2)\n",
      "memory usage: 4.2+ KB\n"
     ]
    }
   ],
   "source": [
    "data['Pollution(Index score) (City)'] = pd.to_numeric(data['Pollution(Index score) (City)'],errors = 'coerce')\n",
    "data['Annual avg. hours worked'] = pd.to_numeric(data['Annual avg. hours worked'],errors = 'coerce')\n",
    "data['Sunshine hours(City)'] = pd.to_numeric(data['Sunshine hours(City)'],errors = 'coerce')\n",
    "data['Cost of a monthly gym membership(City)'] = pd.to_numeric(data['Cost of a monthly gym membership(City)'],errors = 'coerce')\n",
    "data['Obesity levels(Country)'] = data['Obesity levels(Country)'].astype(str)\n",
    "data['Obesity levels(Country)'] = data['Obesity levels(Country)'].str.rstrip('%').astype('float')\n",
    "data.info()"
   ]
  },
  {
   "cell_type": "code",
   "execution_count": 311,
   "id": "ddb422c0",
   "metadata": {},
   "outputs": [],
   "source": [
    "data=data.drop(columns=['Cost of a bottle of water(City)'])"
   ]
  },
  {
   "cell_type": "markdown",
   "id": "5573d2ba",
   "metadata": {},
   "source": [
    "### Analyze the data"
   ]
  },
  {
   "cell_type": "markdown",
   "id": "c7a21834",
   "metadata": {},
   "source": [
    "let us check for correlations in the data"
   ]
  },
  {
   "cell_type": "code",
   "execution_count": 312,
   "id": "f7614bbb",
   "metadata": {
    "scrolled": true
   },
   "outputs": [
    {
     "data": {
      "text/html": [
       "<div>\n",
       "<style scoped>\n",
       "    .dataframe tbody tr th:only-of-type {\n",
       "        vertical-align: middle;\n",
       "    }\n",
       "\n",
       "    .dataframe tbody tr th {\n",
       "        vertical-align: top;\n",
       "    }\n",
       "\n",
       "    .dataframe thead th {\n",
       "        text-align: right;\n",
       "    }\n",
       "</style>\n",
       "<table border=\"1\" class=\"dataframe\">\n",
       "  <thead>\n",
       "    <tr style=\"text-align: right;\">\n",
       "      <th></th>\n",
       "      <th>Rank</th>\n",
       "      <th>Sunshine hours(City)</th>\n",
       "      <th>Obesity levels(Country)</th>\n",
       "      <th>Life expectancy(years) (Country)</th>\n",
       "      <th>Pollution(Index score) (City)</th>\n",
       "      <th>Annual avg. hours worked</th>\n",
       "      <th>Happiness levels(Country)</th>\n",
       "      <th>Outdoor activities(City)</th>\n",
       "      <th>Number of take out places(City)</th>\n",
       "      <th>Cost of a monthly gym membership(City)</th>\n",
       "    </tr>\n",
       "  </thead>\n",
       "  <tbody>\n",
       "    <tr>\n",
       "      <th>Rank</th>\n",
       "      <td>1.000000</td>\n",
       "      <td>0.007940</td>\n",
       "      <td>0.197486</td>\n",
       "      <td>-0.320034</td>\n",
       "      <td>0.427297</td>\n",
       "      <td>0.498113</td>\n",
       "      <td>-0.231970</td>\n",
       "      <td>-0.076972</td>\n",
       "      <td>0.363058</td>\n",
       "      <td>NaN</td>\n",
       "    </tr>\n",
       "    <tr>\n",
       "      <th>Sunshine hours(City)</th>\n",
       "      <td>0.007940</td>\n",
       "      <td>1.000000</td>\n",
       "      <td>0.281304</td>\n",
       "      <td>-0.356351</td>\n",
       "      <td>0.393847</td>\n",
       "      <td>0.560260</td>\n",
       "      <td>-0.334141</td>\n",
       "      <td>0.129550</td>\n",
       "      <td>-0.211848</td>\n",
       "      <td>NaN</td>\n",
       "    </tr>\n",
       "    <tr>\n",
       "      <th>Obesity levels(Country)</th>\n",
       "      <td>0.197486</td>\n",
       "      <td>0.281304</td>\n",
       "      <td>1.000000</td>\n",
       "      <td>0.091071</td>\n",
       "      <td>-0.256251</td>\n",
       "      <td>0.265088</td>\n",
       "      <td>0.446399</td>\n",
       "      <td>0.150171</td>\n",
       "      <td>0.016833</td>\n",
       "      <td>NaN</td>\n",
       "    </tr>\n",
       "    <tr>\n",
       "      <th>Life expectancy(years) (Country)</th>\n",
       "      <td>-0.320034</td>\n",
       "      <td>-0.356351</td>\n",
       "      <td>0.091071</td>\n",
       "      <td>1.000000</td>\n",
       "      <td>-0.558713</td>\n",
       "      <td>-0.480859</td>\n",
       "      <td>0.724587</td>\n",
       "      <td>-0.044864</td>\n",
       "      <td>0.128163</td>\n",
       "      <td>NaN</td>\n",
       "    </tr>\n",
       "    <tr>\n",
       "      <th>Pollution(Index score) (City)</th>\n",
       "      <td>0.427297</td>\n",
       "      <td>0.393847</td>\n",
       "      <td>-0.256251</td>\n",
       "      <td>-0.558713</td>\n",
       "      <td>1.000000</td>\n",
       "      <td>0.544704</td>\n",
       "      <td>-0.765902</td>\n",
       "      <td>0.242622</td>\n",
       "      <td>0.187227</td>\n",
       "      <td>NaN</td>\n",
       "    </tr>\n",
       "    <tr>\n",
       "      <th>Annual avg. hours worked</th>\n",
       "      <td>0.498113</td>\n",
       "      <td>0.560260</td>\n",
       "      <td>0.265088</td>\n",
       "      <td>-0.480859</td>\n",
       "      <td>0.544704</td>\n",
       "      <td>1.000000</td>\n",
       "      <td>-0.531554</td>\n",
       "      <td>0.083404</td>\n",
       "      <td>-0.035817</td>\n",
       "      <td>NaN</td>\n",
       "    </tr>\n",
       "    <tr>\n",
       "      <th>Happiness levels(Country)</th>\n",
       "      <td>-0.231970</td>\n",
       "      <td>-0.334141</td>\n",
       "      <td>0.446399</td>\n",
       "      <td>0.724587</td>\n",
       "      <td>-0.765902</td>\n",
       "      <td>-0.531554</td>\n",
       "      <td>1.000000</td>\n",
       "      <td>-0.137612</td>\n",
       "      <td>0.033116</td>\n",
       "      <td>NaN</td>\n",
       "    </tr>\n",
       "    <tr>\n",
       "      <th>Outdoor activities(City)</th>\n",
       "      <td>-0.076972</td>\n",
       "      <td>0.129550</td>\n",
       "      <td>0.150171</td>\n",
       "      <td>-0.044864</td>\n",
       "      <td>0.242622</td>\n",
       "      <td>0.083404</td>\n",
       "      <td>-0.137612</td>\n",
       "      <td>1.000000</td>\n",
       "      <td>0.528200</td>\n",
       "      <td>NaN</td>\n",
       "    </tr>\n",
       "    <tr>\n",
       "      <th>Number of take out places(City)</th>\n",
       "      <td>0.363058</td>\n",
       "      <td>-0.211848</td>\n",
       "      <td>0.016833</td>\n",
       "      <td>0.128163</td>\n",
       "      <td>0.187227</td>\n",
       "      <td>-0.035817</td>\n",
       "      <td>0.033116</td>\n",
       "      <td>0.528200</td>\n",
       "      <td>1.000000</td>\n",
       "      <td>NaN</td>\n",
       "    </tr>\n",
       "    <tr>\n",
       "      <th>Cost of a monthly gym membership(City)</th>\n",
       "      <td>NaN</td>\n",
       "      <td>NaN</td>\n",
       "      <td>NaN</td>\n",
       "      <td>NaN</td>\n",
       "      <td>NaN</td>\n",
       "      <td>NaN</td>\n",
       "      <td>NaN</td>\n",
       "      <td>NaN</td>\n",
       "      <td>NaN</td>\n",
       "      <td>NaN</td>\n",
       "    </tr>\n",
       "  </tbody>\n",
       "</table>\n",
       "</div>"
      ],
      "text/plain": [
       "                                            Rank  Sunshine hours(City)  \\\n",
       "Rank                                    1.000000              0.007940   \n",
       "Sunshine hours(City)                    0.007940              1.000000   \n",
       "Obesity levels(Country)                 0.197486              0.281304   \n",
       "Life expectancy(years) (Country)       -0.320034             -0.356351   \n",
       "Pollution(Index score) (City)           0.427297              0.393847   \n",
       "Annual avg. hours worked                0.498113              0.560260   \n",
       "Happiness levels(Country)              -0.231970             -0.334141   \n",
       "Outdoor activities(City)               -0.076972              0.129550   \n",
       "Number of take out places(City)         0.363058             -0.211848   \n",
       "Cost of a monthly gym membership(City)       NaN                   NaN   \n",
       "\n",
       "                                        Obesity levels(Country)  \\\n",
       "Rank                                                   0.197486   \n",
       "Sunshine hours(City)                                   0.281304   \n",
       "Obesity levels(Country)                                1.000000   \n",
       "Life expectancy(years) (Country)                       0.091071   \n",
       "Pollution(Index score) (City)                         -0.256251   \n",
       "Annual avg. hours worked                               0.265088   \n",
       "Happiness levels(Country)                              0.446399   \n",
       "Outdoor activities(City)                               0.150171   \n",
       "Number of take out places(City)                        0.016833   \n",
       "Cost of a monthly gym membership(City)                      NaN   \n",
       "\n",
       "                                        Life expectancy(years) (Country)  \\\n",
       "Rank                                                           -0.320034   \n",
       "Sunshine hours(City)                                           -0.356351   \n",
       "Obesity levels(Country)                                         0.091071   \n",
       "Life expectancy(years) (Country)                                1.000000   \n",
       "Pollution(Index score) (City)                                  -0.558713   \n",
       "Annual avg. hours worked                                       -0.480859   \n",
       "Happiness levels(Country)                                       0.724587   \n",
       "Outdoor activities(City)                                       -0.044864   \n",
       "Number of take out places(City)                                 0.128163   \n",
       "Cost of a monthly gym membership(City)                               NaN   \n",
       "\n",
       "                                        Pollution(Index score) (City)  \\\n",
       "Rank                                                         0.427297   \n",
       "Sunshine hours(City)                                         0.393847   \n",
       "Obesity levels(Country)                                     -0.256251   \n",
       "Life expectancy(years) (Country)                            -0.558713   \n",
       "Pollution(Index score) (City)                                1.000000   \n",
       "Annual avg. hours worked                                     0.544704   \n",
       "Happiness levels(Country)                                   -0.765902   \n",
       "Outdoor activities(City)                                     0.242622   \n",
       "Number of take out places(City)                              0.187227   \n",
       "Cost of a monthly gym membership(City)                            NaN   \n",
       "\n",
       "                                        Annual avg. hours worked  \\\n",
       "Rank                                                    0.498113   \n",
       "Sunshine hours(City)                                    0.560260   \n",
       "Obesity levels(Country)                                 0.265088   \n",
       "Life expectancy(years) (Country)                       -0.480859   \n",
       "Pollution(Index score) (City)                           0.544704   \n",
       "Annual avg. hours worked                                1.000000   \n",
       "Happiness levels(Country)                              -0.531554   \n",
       "Outdoor activities(City)                                0.083404   \n",
       "Number of take out places(City)                        -0.035817   \n",
       "Cost of a monthly gym membership(City)                       NaN   \n",
       "\n",
       "                                        Happiness levels(Country)  \\\n",
       "Rank                                                    -0.231970   \n",
       "Sunshine hours(City)                                    -0.334141   \n",
       "Obesity levels(Country)                                  0.446399   \n",
       "Life expectancy(years) (Country)                         0.724587   \n",
       "Pollution(Index score) (City)                           -0.765902   \n",
       "Annual avg. hours worked                                -0.531554   \n",
       "Happiness levels(Country)                                1.000000   \n",
       "Outdoor activities(City)                                -0.137612   \n",
       "Number of take out places(City)                          0.033116   \n",
       "Cost of a monthly gym membership(City)                        NaN   \n",
       "\n",
       "                                        Outdoor activities(City)  \\\n",
       "Rank                                                   -0.076972   \n",
       "Sunshine hours(City)                                    0.129550   \n",
       "Obesity levels(Country)                                 0.150171   \n",
       "Life expectancy(years) (Country)                       -0.044864   \n",
       "Pollution(Index score) (City)                           0.242622   \n",
       "Annual avg. hours worked                                0.083404   \n",
       "Happiness levels(Country)                              -0.137612   \n",
       "Outdoor activities(City)                                1.000000   \n",
       "Number of take out places(City)                         0.528200   \n",
       "Cost of a monthly gym membership(City)                       NaN   \n",
       "\n",
       "                                        Number of take out places(City)  \\\n",
       "Rank                                                           0.363058   \n",
       "Sunshine hours(City)                                          -0.211848   \n",
       "Obesity levels(Country)                                        0.016833   \n",
       "Life expectancy(years) (Country)                               0.128163   \n",
       "Pollution(Index score) (City)                                  0.187227   \n",
       "Annual avg. hours worked                                      -0.035817   \n",
       "Happiness levels(Country)                                      0.033116   \n",
       "Outdoor activities(City)                                       0.528200   \n",
       "Number of take out places(City)                                1.000000   \n",
       "Cost of a monthly gym membership(City)                              NaN   \n",
       "\n",
       "                                        Cost of a monthly gym membership(City)  \n",
       "Rank                                                                       NaN  \n",
       "Sunshine hours(City)                                                       NaN  \n",
       "Obesity levels(Country)                                                    NaN  \n",
       "Life expectancy(years) (Country)                                           NaN  \n",
       "Pollution(Index score) (City)                                              NaN  \n",
       "Annual avg. hours worked                                                   NaN  \n",
       "Happiness levels(Country)                                                  NaN  \n",
       "Outdoor activities(City)                                                   NaN  \n",
       "Number of take out places(City)                                            NaN  \n",
       "Cost of a monthly gym membership(City)                                     NaN  "
      ]
     },
     "execution_count": 312,
     "metadata": {},
     "output_type": "execute_result"
    }
   ],
   "source": [
    "data.corr()"
   ]
  },
  {
   "cell_type": "code",
   "execution_count": 313,
   "id": "b75f9fd3",
   "metadata": {},
   "outputs": [
    {
     "data": {
      "image/png": "[encoded data removed]",
      "text/plain": [
       "<Figure size 720x576 with 2 Axes>"
      ]
     },
     "metadata": {},
     "output_type": "display_data"
    }
   ],
   "source": [
    "corr = data.corr()\n",
    "\n",
    "sns.heatmap(corr,xticklabels=corr.columns, yticklabels=corr.columns, annot=True, cmap='viridis')\n",
    "fig=plt.gcf()\n",
    "fig.set_size_inches(10,8)\n",
    "plt.show()"
   ]
  },
  {
   "cell_type": "code",
   "execution_count": 314,
   "id": "9f763676",
   "metadata": {},
   "outputs": [
    {
     "data": {
      "text/plain": [
       "count    44.000000\n",
       "mean      6.435000\n",
       "std       0.991202\n",
       "min       3.570000\n",
       "25%       5.870000\n",
       "50%       6.900000\n",
       "75%       7.175000\n",
       "max       7.800000\n",
       "Name: Happiness levels(Country), dtype: float64"
      ]
     },
     "execution_count": 314,
     "metadata": {},
     "output_type": "execute_result"
    }
   ],
   "source": [
    "data['Happiness levels(Country)'].describe()"
   ]
  },
  {
   "cell_type": "markdown",
   "id": "3c09bcbd",
   "metadata": {},
   "source": [
    "The maximum happiness level is 7.8, while the minimum is only 3.57.\n",
    "Let us see the relationships between happiness levels and different factors to find out correlations among the data.\n",
    "\n",
    "But before that, import the necessary packages needed to visualize the correlations."
   ]
  },
  {
   "cell_type": "code",
   "execution_count": 315,
   "id": "dea29af6",
   "metadata": {},
   "outputs": [],
   "source": [
    "import matplotlib.pyplot as plt\n",
    "import seaborn as sns"
   ]
  },
  {
   "cell_type": "markdown",
   "id": "d12c4ae2",
   "metadata": {},
   "source": [
    "#### Relation between the number of hours of sunlight, happiness levels and life expectancy"
   ]
  },
  {
   "cell_type": "code",
   "execution_count": 316,
   "id": "8cba58e3",
   "metadata": {},
   "outputs": [
    {
     "data": {
      "text/plain": [
       "<AxesSubplot:xlabel='Happiness levels(Country)', ylabel='Annual avg. hours worked'>"
      ]
     },
     "execution_count": 316,
     "metadata": {},
     "output_type": "execute_result"
    },
    {
     "data": {
      "image/png": "[encoded data removed]",
      "text/plain": [
       "<Figure size 432x288 with 1 Axes>"
      ]
     },
     "metadata": {},
     "output_type": "display_data"
    }
   ],
   "source": [
    "g=sns.scatterplot(data=data,x='Happiness levels(Country)',y='Annual avg. hours worked',hue=\"Life expectancy(years) (Country)\",\n",
    "                  )\n",
    "g"
   ]
  },
  {
   "cell_type": "markdown",
   "id": "9f6f57dc",
   "metadata": {},
   "source": [
    "This scatterplot shows that as the average number of hours worked decreased, the happiness levels and the life expectancy rates have also increased."
   ]
  },
  {
   "cell_type": "markdown",
   "id": "62f30ccd",
   "metadata": {},
   "source": [
    "#### Relation between life expectancy and pollution levels"
   ]
  },
  {
   "cell_type": "code",
   "execution_count": 317,
   "id": "ca9fe0af",
   "metadata": {},
   "outputs": [
    {
     "data": {
      "image/png": "[encoded data removed]",
      "text/plain": [
       "<Figure size 432x432 with 3 Axes>"
      ]
     },
     "metadata": {},
     "output_type": "display_data"
    }
   ],
   "source": [
    "a=sns.jointplot(data=data, x='Life expectancy(years) (Country)',y='Pollution(Index score) (City)',kind='hex')"
   ]
  },
  {
   "cell_type": "markdown",
   "id": "6deb7108",
   "metadata": {},
   "source": [
    "The plot clearly shows that the low pollution levels lead to higher life expectancy rates."
   ]
  },
  {
   "cell_type": "code",
   "execution_count": 318,
   "id": "17143b50",
   "metadata": {},
   "outputs": [
    {
     "data": {
      "text/plain": [
       "<AxesSubplot:xlabel='Pollution(Index score) (City)', ylabel='Happiness levels(Country)'>"
      ]
     },
     "execution_count": 318,
     "metadata": {},
     "output_type": "execute_result"
    },
    {
     "data": {
      "image/png": "[encoded data removed]",
      "text/plain": [
       "<Figure size 432x288 with 1 Axes>"
      ]
     },
     "metadata": {},
     "output_type": "display_data"
    }
   ],
   "source": [
    "sns.regplot(x='Pollution(Index score) (City)', y='Happiness levels(Country)', data=data)"
   ]
  },
  {
   "cell_type": "markdown",
   "id": "c471e81f",
   "metadata": {},
   "source": [
    "If the city has lower pollution levels Happiness level is higher."
   ]
  },
  {
   "cell_type": "markdown",
   "id": "752bbb6d",
   "metadata": {},
   "source": [
    "#### Relation between happiness levels and Life expectancy"
   ]
  },
  {
   "cell_type": "code",
   "execution_count": 319,
   "id": "496bbdb7",
   "metadata": {},
   "outputs": [
    {
     "data": {
      "text/plain": [
       "Text(0.5, 1.0, 'Relation between Happiness levels and Life expectancy')"
      ]
     },
     "execution_count": 319,
     "metadata": {},
     "output_type": "execute_result"
    },
    {
     "data": {
      "image/png": "[encoded data removed]",
      "text/plain": [
       "<Figure size 432x288 with 1 Axes>"
      ]
     },
     "metadata": {},
     "output_type": "display_data"
    }
   ],
   "source": [
    "plt.scatter(data[\"Happiness levels(Country)\"],data['Life expectancy(years) (Country)'],c=\"g\",s=70)\n",
    "plt.xlabel(\"Happiness levels\");\n",
    "plt.ylabel(\"Life expectancy\");\n",
    "plt.title(\"Relation between Happiness levels and Life expectancy\")"
   ]
  },
  {
   "cell_type": "markdown",
   "id": "d88cfbe5",
   "metadata": {},
   "source": [
    "There is a clear indication that higher levels of happiness leads to higher life expectancy"
   ]
  },
  {
   "cell_type": "code",
   "execution_count": 320,
   "id": "e5eeb801",
   "metadata": {},
   "outputs": [
    {
     "data": {
      "text/plain": [
       "count    44.00000\n",
       "mean     21.92500\n",
       "std      10.19567\n",
       "min       3.90000\n",
       "25%      19.50000\n",
       "50%      22.30000\n",
       "75%      29.00000\n",
       "max      36.20000\n",
       "Name: Obesity levels(Country), dtype: float64"
      ]
     },
     "execution_count": 320,
     "metadata": {},
     "output_type": "execute_result"
    }
   ],
   "source": [
    "data['Obesity levels(Country)'].describe()"
   ]
  },
  {
   "cell_type": "markdown",
   "id": "12edee4e",
   "metadata": {},
   "source": [
    "I will create a new series in the dataframe called 'Obesity range' to have cateogorical data of obesity."
   ]
  },
  {
   "cell_type": "code",
   "execution_count": 321,
   "id": "01de4f20",
   "metadata": {},
   "outputs": [],
   "source": [
    "obesity=[]\n",
    "for a in data['Obesity levels(Country)']:\n",
    "    if a>=10 and a<20:\n",
    "        obesity.append('Low')\n",
    "    elif a>=20 and a<30:\n",
    "        obesity.append('Moderately high')\n",
    "    else:\n",
    "        obesity.append('High')"
   ]
  },
  {
   "cell_type": "code",
   "execution_count": 322,
   "id": "9cc70e2c",
   "metadata": {},
   "outputs": [],
   "source": [
    "data['Obesity range']=pd.Series(obesity)"
   ]
  },
  {
   "cell_type": "markdown",
   "id": "5b4e2958",
   "metadata": {},
   "source": [
    "#### Relation between obesity and the number of takeout places in a city"
   ]
  },
  {
   "cell_type": "code",
   "execution_count": 323,
   "id": "ff40ee45",
   "metadata": {},
   "outputs": [
    {
     "data": {
      "text/plain": [
       "Text(0.5, 1.0, 'Relation between obesity and number of take out places in a city')"
      ]
     },
     "execution_count": 323,
     "metadata": {},
     "output_type": "execute_result"
    },
    {
     "data": {
      "image/png": "[encoded data removed]",
      "text/plain": [
       "<Figure size 432x288 with 1 Axes>"
      ]
     },
     "metadata": {},
     "output_type": "display_data"
    }
   ],
   "source": [
    "plt.bar(data['Obesity range'], data['Number of take out places(City)'],\n",
    "        width = 0.4)\n",
    " \n",
    "plt.xlabel(\"Obesity range\")\n",
    "plt.ylabel(\"No. of take out places in the city\")\n",
    "plt.title(\"Relation between obesity and number of take out places in a city\")"
   ]
  },
  {
   "cell_type": "markdown",
   "id": "ff4d0183",
   "metadata": {},
   "source": [
    "The plot clearly shows that obesity levels are high when there are too many takeout places in the city"
   ]
  },
  {
   "cell_type": "code",
   "execution_count": 324,
   "id": "ebc72123",
   "metadata": {},
   "outputs": [
    {
     "data": {
      "text/html": [
       "<div>\n",
       "<style scoped>\n",
       "    .dataframe tbody tr th:only-of-type {\n",
       "        vertical-align: middle;\n",
       "    }\n",
       "\n",
       "    .dataframe tbody tr th {\n",
       "        vertical-align: top;\n",
       "    }\n",
       "\n",
       "    .dataframe thead th {\n",
       "        text-align: right;\n",
       "    }\n",
       "</style>\n",
       "<table border=\"1\" class=\"dataframe\">\n",
       "  <thead>\n",
       "    <tr style=\"text-align: right;\">\n",
       "      <th></th>\n",
       "      <th>Number of take out places(City)</th>\n",
       "      <th>Happiness levels(Country)</th>\n",
       "    </tr>\n",
       "  </thead>\n",
       "  <tbody>\n",
       "    <tr>\n",
       "      <th>Number of take out places(City)</th>\n",
       "      <td>1.000000</td>\n",
       "      <td>0.033116</td>\n",
       "    </tr>\n",
       "    <tr>\n",
       "      <th>Happiness levels(Country)</th>\n",
       "      <td>0.033116</td>\n",
       "      <td>1.000000</td>\n",
       "    </tr>\n",
       "  </tbody>\n",
       "</table>\n",
       "</div>"
      ],
      "text/plain": [
       "                                 Number of take out places(City)  \\\n",
       "Number of take out places(City)                         1.000000   \n",
       "Happiness levels(Country)                               0.033116   \n",
       "\n",
       "                                 Happiness levels(Country)  \n",
       "Number of take out places(City)                   0.033116  \n",
       "Happiness levels(Country)                         1.000000  "
      ]
     },
     "execution_count": 324,
     "metadata": {},
     "output_type": "execute_result"
    }
   ],
   "source": [
    "data[['Number of take out places(City)','Happiness levels(Country)']].corr()"
   ]
  },
  {
   "cell_type": "markdown",
   "id": "0618e503",
   "metadata": {},
   "source": [
    "But also, there is a positive correlation between the number of takeout places in a city and the happiness levels"
   ]
  },
  {
   "cell_type": "markdown",
   "id": "228276e0",
   "metadata": {},
   "source": [
    "### Conclusion"
   ]
  },
  {
   "cell_type": "markdown",
   "id": "5aa89a41",
   "metadata": {},
   "source": [
    "In conclusion, there are many factors that relate to happiness levels and overall healthy lifestyle of people ina  city. The insights confirmed are:\n",
    "\n",
    "-A major factor behind longer life expectancy is happiness.Higher levels of happiness leads to higher life expectancy rates.\n",
    "\n",
    "-Obesity is a major concern of people's health. It is higher in cities with mor takeout places\n",
    "\n",
    "-But people are also happier in cities with more take out places.\n",
    "\n",
    "-As the average number of hours worked decreased, the happiness levels and the life expectancy rates have also increased.\n",
    "\n",
    "-Low pollution levels lead to higher life expectancy rates, which also correlated to higher happiness levels"
   ]
  }
 ],
 "metadata": {
  "kernelspec": {
   "display_name": "Python 3 (ipykernel)",
   "language": "python",
   "name": "python3"
  },
  "language_info": {
   "codemirror_mode": {
    "name": "ipython",
    "version": 3
   },
   "file_extension": ".py",
   "mimetype": "text/x-python",
   "name": "python",
   "nbconvert_exporter": "python",
   "pygments_lexer": "ipython3",
   "version": "3.9.7"
  }
 },
 "nbformat": 4,
 "nbformat_minor": 5
}
